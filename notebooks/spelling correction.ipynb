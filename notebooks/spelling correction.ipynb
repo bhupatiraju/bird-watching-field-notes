{
 "cells": [
  {
   "cell_type": "code",
   "execution_count": 69,
   "id": "54e6496c",
   "metadata": {},
   "outputs": [],
   "source": [
    "import pandas as pd\n",
    "import os\n",
    "import json\n",
    "from random import sample\n",
    "from openai import OpenAI\n",
    "from dotenv import load_dotenv  \n",
    "from tqdm import tqdm\n",
    "\n",
    "load_dotenv()\n",
    "api_key = os.getenv(\"OPENAI_API_KEY\")\n",
    "client = OpenAI()\n"
   ]
  },
  {
   "cell_type": "code",
   "execution_count": 81,
   "id": "e2b32abf",
   "metadata": {},
   "outputs": [],
   "source": [
    "df = pd.read_csv('../data/raw/field_notes_raw.csv')"
   ]
  },
  {
   "cell_type": "code",
   "execution_count": 5,
   "id": "f9fc15d9",
   "metadata": {},
   "outputs": [
    {
     "name": "stdout",
     "output_type": "stream",
     "text": [
      "Number of unique strings: 277\n"
     ]
    }
   ],
   "source": [
    "names = sorted(df['Bird Species'].unique())\n",
    "print(f\"Number of unique strings: {len(names)}\")"
   ]
  },
  {
   "cell_type": "code",
   "execution_count": 6,
   "id": "51fb478e",
   "metadata": {},
   "outputs": [
    {
     "name": "stdout",
     "output_type": "stream",
     "text": [
      "['white bellied fishing eagle', 'green reed warbler', 'little egret', 'lesser white throat', 'egret']\n"
     ]
    }
   ],
   "source": [
    "print(sample(names, 5))"
   ]
  },
  {
   "cell_type": "markdown",
   "id": "eb9a7f53",
   "metadata": {},
   "source": [
    "#### Context-aware spell check "
   ]
  },
  {
   "cell_type": "code",
   "execution_count": 57,
   "id": "254e36d9",
   "metadata": {},
   "outputs": [],
   "source": [
    "\n",
    "def get_corrected_names(names_list):\n",
    "  response = client.chat.completions.create(\n",
    "    model=\"gpt-3.5-turbo\",\n",
    "    messages=[\n",
    "      {\n",
    "        \"role\": \"system\",\n",
    "        \"content\": [\n",
    "          {\n",
    "            \"type\": \"text\",\n",
    "            \"text\": \"you are a helpful spelling assistant helping correct incorrectly \\\n",
    "            spelled bird names. Given a list of birds return a python dict \\\n",
    "            with the input bird names as keys and the spelling and case corrected names as values.\\\n",
    "            The output dict should have the form \\\n",
    "            {input_name1: corrected_name1, input_name2:corrected_name2, ...}\"\n",
    "          }\n",
    "        ]\n",
    "      },\n",
    "      {\n",
    "        \"role\": \"user\",\n",
    "        \"content\": [\n",
    "          {\n",
    "            \"type\": \"text\",\n",
    "            \"text\": str(names_list)\n",
    "          }\n",
    "        ]\n",
    "      },\n",
    "    ],\n",
    "    temperature=1,\n",
    "    max_tokens=2000,\n",
    "    top_p=1,\n",
    "    frequency_penalty=0,\n",
    "    presence_penalty=0,\n",
    "    response_format={\n",
    "      \"type\": \"text\"\n",
    "    }\n",
    "  )\n",
    "  return response"
   ]
  },
  {
   "cell_type": "code",
   "execution_count": 70,
   "id": "91d6e402",
   "metadata": {},
   "outputs": [
    {
     "name": "stderr",
     "output_type": "stream",
     "text": [
      "100%|██████████| 12/12 [00:50<00:00,  4.22s/it]\n"
     ]
    }
   ],
   "source": [
    "responses = []\n",
    "chunk_size = 25\n",
    "\n",
    "for i in tqdm(range(0, len(names), chunk_size)):\n",
    "    chunk = names[i:i + chunk_size]\n",
    "    response = get_corrected_names(chunk)\n",
    "    responses.append(response)\n",
    "\n",
    "corrected_names = {}\n",
    "for response in responses:\n",
    "    l = json.loads(response.choices[0].message.content.replace(\"'\", '\"'))\n",
    "    corrected_names = {**corrected_names, **l}"
   ]
  },
  {
   "cell_type": "code",
   "execution_count": 82,
   "id": "5bc9b2cd",
   "metadata": {},
   "outputs": [
    {
     "data": {
      "text/html": [
       "<div>\n",
       "<style scoped>\n",
       "    .dataframe tbody tr th:only-of-type {\n",
       "        vertical-align: middle;\n",
       "    }\n",
       "\n",
       "    .dataframe tbody tr th {\n",
       "        vertical-align: top;\n",
       "    }\n",
       "\n",
       "    .dataframe thead th {\n",
       "        text-align: right;\n",
       "    }\n",
       "</style>\n",
       "<table border=\"1\" class=\"dataframe\">\n",
       "  <thead>\n",
       "    <tr style=\"text-align: right;\">\n",
       "      <th></th>\n",
       "      <th>Date</th>\n",
       "      <th>Time</th>\n",
       "      <th>Location</th>\n",
       "      <th>Weather</th>\n",
       "      <th>Bird Species</th>\n",
       "      <th>Notes</th>\n",
       "      <th>Count</th>\n",
       "      <th>Sex</th>\n",
       "      <th>Comments</th>\n",
       "      <th>corrected_name</th>\n",
       "    </tr>\n",
       "  </thead>\n",
       "  <tbody>\n",
       "    <tr>\n",
       "      <th>998</th>\n",
       "      <td>NaN</td>\n",
       "      <td>NaN</td>\n",
       "      <td>NaN</td>\n",
       "      <td>NaN</td>\n",
       "      <td>purple sunbird</td>\n",
       "      <td>NaN</td>\n",
       "      <td>NaN</td>\n",
       "      <td>NaN</td>\n",
       "      <td>NaN</td>\n",
       "      <td>Purple Sunbird</td>\n",
       "    </tr>\n",
       "    <tr>\n",
       "      <th>916</th>\n",
       "      <td>NaN</td>\n",
       "      <td>NaN</td>\n",
       "      <td>NaN</td>\n",
       "      <td>NaN</td>\n",
       "      <td>indian tree pipet</td>\n",
       "      <td>NaN</td>\n",
       "      <td>NaN</td>\n",
       "      <td>NaN</td>\n",
       "      <td>NaN</td>\n",
       "      <td>Indian Tree Pipit</td>\n",
       "    </tr>\n",
       "    <tr>\n",
       "      <th>1</th>\n",
       "      <td>NaN</td>\n",
       "      <td>NaN</td>\n",
       "      <td>NaN</td>\n",
       "      <td>NaN</td>\n",
       "      <td>White Browed Bulbul</td>\n",
       "      <td>Heard</td>\n",
       "      <td>NaN</td>\n",
       "      <td>NaN</td>\n",
       "      <td>NaN</td>\n",
       "      <td>White-browed bulbul</td>\n",
       "    </tr>\n",
       "    <tr>\n",
       "      <th>694</th>\n",
       "      <td>NaN</td>\n",
       "      <td>NaN</td>\n",
       "      <td>NaN</td>\n",
       "      <td>NaN</td>\n",
       "      <td>loten sunbird</td>\n",
       "      <td>NaN</td>\n",
       "      <td>NaN</td>\n",
       "      <td>NaN</td>\n",
       "      <td>NaN</td>\n",
       "      <td>Loten Sunbird</td>\n",
       "    </tr>\n",
       "    <tr>\n",
       "      <th>883</th>\n",
       "      <td>NaN</td>\n",
       "      <td>NaN</td>\n",
       "      <td>NaN</td>\n",
       "      <td>NaN</td>\n",
       "      <td>coucal</td>\n",
       "      <td>NaN</td>\n",
       "      <td>NaN</td>\n",
       "      <td>NaN</td>\n",
       "      <td>NaN</td>\n",
       "      <td>coucal</td>\n",
       "    </tr>\n",
       "  </tbody>\n",
       "</table>\n",
       "</div>"
      ],
      "text/plain": [
       "    Date Time Location Weather         Bird Species  Notes Count  Sex  \\\n",
       "998  NaN  NaN      NaN     NaN       purple sunbird    NaN   NaN  NaN   \n",
       "916  NaN  NaN      NaN     NaN    indian tree pipet    NaN   NaN  NaN   \n",
       "1    NaN  NaN      NaN     NaN  White Browed Bulbul  Heard   NaN  NaN   \n",
       "694  NaN  NaN      NaN     NaN        loten sunbird    NaN   NaN  NaN   \n",
       "883  NaN  NaN      NaN     NaN               coucal    NaN   NaN  NaN   \n",
       "\n",
       "    Comments       corrected_name  \n",
       "998      NaN       Purple Sunbird  \n",
       "916      NaN    Indian Tree Pipit  \n",
       "1        NaN  White-browed bulbul  \n",
       "694      NaN        Loten Sunbird  \n",
       "883      NaN               coucal  "
      ]
     },
     "execution_count": 82,
     "metadata": {},
     "output_type": "execute_result"
    }
   ],
   "source": [
    "df['corrected_name'] = df['Bird Species'].map(lambda x: corrected_names.get(x))\n",
    "df.sample(5)"
   ]
  },
  {
   "cell_type": "code",
   "execution_count": 83,
   "id": "d3bd0354",
   "metadata": {},
   "outputs": [],
   "source": [
    "df.to_csv('../data/processed/field_notes_with_corrected_names.csv', index=False)"
   ]
  }
 ],
 "metadata": {
  "kernelspec": {
   "display_name": "Python 3.9.18 ('venv': venv)",
   "language": "python",
   "name": "python3"
  },
  "language_info": {
   "codemirror_mode": {
    "name": "ipython",
    "version": 3
   },
   "file_extension": ".py",
   "mimetype": "text/x-python",
   "name": "python",
   "nbconvert_exporter": "python",
   "pygments_lexer": "ipython3",
   "version": "3.9.18"
  },
  "vscode": {
   "interpreter": {
    "hash": "853820d714f48262b443d7edc3ae93055ba9d567ffadddded28ee8b7c5e8f2af"
   }
  }
 },
 "nbformat": 4,
 "nbformat_minor": 5
}
