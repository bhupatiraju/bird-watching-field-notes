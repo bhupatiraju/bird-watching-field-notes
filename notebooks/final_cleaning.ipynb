{
 "cells": [
  {
   "cell_type": "code",
   "execution_count": 16,
   "metadata": {},
   "outputs": [],
   "source": [
    "import pandas as pd"
   ]
  },
  {
   "cell_type": "code",
   "execution_count": 17,
   "metadata": {},
   "outputs": [],
   "source": [
    "\n",
    "# made a final copy of the CSV to manually check\n",
    "df = pd.read_csv('../data/processed/field_notes_with_standardized_names_v2.csv')"
   ]
  },
  {
   "cell_type": "code",
   "execution_count": 18,
   "metadata": {},
   "outputs": [],
   "source": [
    "# add standardized name\n",
    "df['Standardized Name'] = df.name.map(lambda x: x.split(' - ')[0] if type(x)==str else x)"
   ]
  },
  {
   "cell_type": "code",
   "execution_count": 19,
   "metadata": {},
   "outputs": [],
   "source": [
    "# add scientific name column\n",
    "df['Scientific Name'] = df.name.map(lambda x: x.split(' - ')[1] if type(x)==str else x)"
   ]
  },
  {
   "cell_type": "code",
   "execution_count": 20,
   "metadata": {},
   "outputs": [],
   "source": [
    "# add eBird link\n",
    "df['eBird URL'] = df.apply(lambda x: f'=HYPERLINK(\"https://ebird.org/species/{x[\"id\"]}?siteLanguage=en_IN\", \"{x[\"Standardized Name\"]}\")' if type(x['id'])==str else None, axis=1)"
   ]
  },
  {
   "cell_type": "code",
   "execution_count": 21,
   "metadata": {},
   "outputs": [],
   "source": [
    "# change format of date\n",
    "df['date'] = pd.to_datetime(df['Date'], format='%d-%m-%y')\n",
    "df['Date'] = df['date'].dt.strftime('%d %b %Y')\n"
   ]
  },
  {
   "cell_type": "code",
   "execution_count": 22,
   "metadata": {},
   "outputs": [],
   "source": [
    "ddf = df[[\n",
    "    'Date', 'Time', 'Location', 'Weather', 'Bird Species', 'Standardized Name',\n",
    "    'Notes', 'Count', 'Sex', 'Comments', 'Scientific Name', 'eBird URL'\n",
    "    ]]\n",
    "\n",
    "ddf = ddf.rename(columns = {\n",
    "    'Bird Species': 'Name from Notes',\n",
    "    'Standardized Name': 'Common Name',\n",
    "    'Notes':'Seen/Heard',\n",
    "    'Sex':'Male/Female',\n",
    "    \n",
    "    })"
   ]
  },
  {
   "cell_type": "code",
   "execution_count": 23,
   "metadata": {},
   "outputs": [
    {
     "data": {
      "text/html": [
       "<div>\n",
       "<style scoped>\n",
       "    .dataframe tbody tr th:only-of-type {\n",
       "        vertical-align: middle;\n",
       "    }\n",
       "\n",
       "    .dataframe tbody tr th {\n",
       "        vertical-align: top;\n",
       "    }\n",
       "\n",
       "    .dataframe thead th {\n",
       "        text-align: right;\n",
       "    }\n",
       "</style>\n",
       "<table border=\"1\" class=\"dataframe\">\n",
       "  <thead>\n",
       "    <tr style=\"text-align: right;\">\n",
       "      <th></th>\n",
       "      <th>Date</th>\n",
       "      <th>Time</th>\n",
       "      <th>Location</th>\n",
       "      <th>Weather</th>\n",
       "      <th>Name from Notes</th>\n",
       "      <th>Common Name</th>\n",
       "      <th>Seen/Heard</th>\n",
       "      <th>Count</th>\n",
       "      <th>Male/Female</th>\n",
       "      <th>Comments</th>\n",
       "      <th>Scientific Name</th>\n",
       "      <th>eBird URL</th>\n",
       "    </tr>\n",
       "  </thead>\n",
       "  <tbody>\n",
       "    <tr>\n",
       "      <th>273</th>\n",
       "      <td>NaN</td>\n",
       "      <td>NaN</td>\n",
       "      <td>NaN</td>\n",
       "      <td>NaN</td>\n",
       "      <td>white browed bulbul</td>\n",
       "      <td>White-browed Bulbul</td>\n",
       "      <td>NaN</td>\n",
       "      <td>NaN</td>\n",
       "      <td>NaN</td>\n",
       "      <td>NaN</td>\n",
       "      <td>Pycnonotus luteolus</td>\n",
       "      <td>=HYPERLINK(\"https://ebird.org/species/whbbul2?...</td>\n",
       "    </tr>\n",
       "    <tr>\n",
       "      <th>415</th>\n",
       "      <td>NaN</td>\n",
       "      <td>NaN</td>\n",
       "      <td>NaN</td>\n",
       "      <td>NaN</td>\n",
       "      <td>cormorant</td>\n",
       "      <td>Little Cormorant</td>\n",
       "      <td>NaN</td>\n",
       "      <td>NaN</td>\n",
       "      <td>NaN</td>\n",
       "      <td>NaN</td>\n",
       "      <td>Microcarbo niger</td>\n",
       "      <td>=HYPERLINK(\"https://ebird.org/species/litcor1?...</td>\n",
       "    </tr>\n",
       "    <tr>\n",
       "      <th>177</th>\n",
       "      <td>NaN</td>\n",
       "      <td>NaN</td>\n",
       "      <td>NaN</td>\n",
       "      <td>NaN</td>\n",
       "      <td>White Headed Babbler</td>\n",
       "      <td>Yellow-billed Babbler</td>\n",
       "      <td>NaN</td>\n",
       "      <td>NaN</td>\n",
       "      <td>NaN</td>\n",
       "      <td>NaN</td>\n",
       "      <td>Argya affinis</td>\n",
       "      <td>=HYPERLINK(\"https://ebird.org/species/yebbab1?...</td>\n",
       "    </tr>\n",
       "    <tr>\n",
       "      <th>19</th>\n",
       "      <td>NaN</td>\n",
       "      <td>NaN</td>\n",
       "      <td>NaN</td>\n",
       "      <td>NaN</td>\n",
       "      <td>Spotted Munia</td>\n",
       "      <td>Scaly-breasted Munia (Spotted Munia)</td>\n",
       "      <td>Seen</td>\n",
       "      <td>NaN</td>\n",
       "      <td>NaN</td>\n",
       "      <td>NaN</td>\n",
       "      <td>Lonchura punctulata</td>\n",
       "      <td>=HYPERLINK(\"https://ebird.org/species/nutman?s...</td>\n",
       "    </tr>\n",
       "    <tr>\n",
       "      <th>388</th>\n",
       "      <td>NaN</td>\n",
       "      <td>NaN</td>\n",
       "      <td>NaN</td>\n",
       "      <td>NaN</td>\n",
       "      <td>red whiskered bulbul</td>\n",
       "      <td>Red-whiskered Bulbul</td>\n",
       "      <td>NaN</td>\n",
       "      <td>NaN</td>\n",
       "      <td>NaN</td>\n",
       "      <td>NaN</td>\n",
       "      <td>Pycnonotus jocosus</td>\n",
       "      <td>=HYPERLINK(\"https://ebird.org/species/rewbul?s...</td>\n",
       "    </tr>\n",
       "  </tbody>\n",
       "</table>\n",
       "</div>"
      ],
      "text/plain": [
       "    Date Time Location Weather       Name from Notes  \\\n",
       "273  NaN  NaN      NaN     NaN   white browed bulbul   \n",
       "415  NaN  NaN      NaN     NaN             cormorant   \n",
       "177  NaN  NaN      NaN     NaN  White Headed Babbler   \n",
       "19   NaN  NaN      NaN     NaN         Spotted Munia   \n",
       "388  NaN  NaN      NaN     NaN  red whiskered bulbul   \n",
       "\n",
       "                              Common Name Seen/Heard Count Male/Female  \\\n",
       "273                   White-browed Bulbul        NaN   NaN         NaN   \n",
       "415                      Little Cormorant        NaN   NaN         NaN   \n",
       "177                 Yellow-billed Babbler        NaN   NaN         NaN   \n",
       "19   Scaly-breasted Munia (Spotted Munia)       Seen   NaN         NaN   \n",
       "388                  Red-whiskered Bulbul        NaN   NaN         NaN   \n",
       "\n",
       "    Comments      Scientific Name  \\\n",
       "273      NaN  Pycnonotus luteolus   \n",
       "415      NaN     Microcarbo niger   \n",
       "177      NaN        Argya affinis   \n",
       "19       NaN  Lonchura punctulata   \n",
       "388      NaN   Pycnonotus jocosus   \n",
       "\n",
       "                                             eBird URL  \n",
       "273  =HYPERLINK(\"https://ebird.org/species/whbbul2?...  \n",
       "415  =HYPERLINK(\"https://ebird.org/species/litcor1?...  \n",
       "177  =HYPERLINK(\"https://ebird.org/species/yebbab1?...  \n",
       "19   =HYPERLINK(\"https://ebird.org/species/nutman?s...  \n",
       "388  =HYPERLINK(\"https://ebird.org/species/rewbul?s...  "
      ]
     },
     "execution_count": 23,
     "metadata": {},
     "output_type": "execute_result"
    }
   ],
   "source": [
    "ddf.sample(5)"
   ]
  },
  {
   "cell_type": "code",
   "execution_count": 10,
   "metadata": {},
   "outputs": [],
   "source": [
    "df.to_excel('../data/output/field_notes.xlsx', index=False)"
   ]
  },
  {
   "cell_type": "code",
   "execution_count": 11,
   "metadata": {},
   "outputs": [],
   "source": [
    "# save CSV\n",
    "ddf.to_csv('../data/output/field_notes.csv', index=False)"
   ]
  },
  {
   "cell_type": "code",
   "execution_count": 24,
   "metadata": {},
   "outputs": [],
   "source": [
    "# save a version of the list as a MarkDown table\n",
    "ddf = ddf.rename(columns = {'eBird URL':'eBird'})\n",
    "ddf['eBird URL'] = df.apply(lambda x: f'[{x[\"Standardized Name\"]}](https://ebird.org/species/{x[\"id\"]}?siteLanguage=en_IN)' if type(x['id'])==str else None, axis=1)\n",
    "\n",
    "markdown_table = ddf[[\n",
    "    'Date', 'Time', 'Location', 'Weather', 'Name from Notes', 'Common Name',\n",
    "    'Seen/Heard', 'Count', 'Male/Female', 'Comments', 'Scientific Name',\n",
    "    'eBird URL']].fillna('').to_markdown()"
   ]
  },
  {
   "cell_type": "code",
   "execution_count": 25,
   "metadata": {},
   "outputs": [],
   "source": [
    "# Save the markdown table to a .md file\n",
    "with open('../data/output/field_notes.md', 'w') as f:\n",
    "    f.write(markdown_table)\n"
   ]
  }
 ],
 "metadata": {
  "kernelspec": {
   "display_name": "Python 3.9.18 ('venv': venv)",
   "language": "python",
   "name": "python3"
  },
  "language_info": {
   "codemirror_mode": {
    "name": "ipython",
    "version": 3
   },
   "file_extension": ".py",
   "mimetype": "text/x-python",
   "name": "python",
   "nbconvert_exporter": "python",
   "pygments_lexer": "ipython3",
   "version": "3.9.18"
  },
  "orig_nbformat": 4,
  "vscode": {
   "interpreter": {
    "hash": "853820d714f48262b443d7edc3ae93055ba9d567ffadddded28ee8b7c5e8f2af"
   }
  }
 },
 "nbformat": 4,
 "nbformat_minor": 2
}
