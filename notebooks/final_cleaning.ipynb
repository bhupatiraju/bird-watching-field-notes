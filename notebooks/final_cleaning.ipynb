{
 "cells": [
  {
   "cell_type": "code",
   "execution_count": 1,
   "metadata": {},
   "outputs": [],
   "source": [
    "import pandas as pd"
   ]
  },
  {
   "cell_type": "code",
   "execution_count": 2,
   "metadata": {},
   "outputs": [],
   "source": [
    "\n",
    "# made a final copy of the CSV to manually check\n",
    "df = pd.read_csv('../data/processed/field_notes_with_standardized_names_v2.csv')"
   ]
  },
  {
   "cell_type": "code",
   "execution_count": 3,
   "metadata": {},
   "outputs": [],
   "source": [
    "# add standardized name\n",
    "df['Standardized Name'] = df.name.map(lambda x: x.split(' - ')[0] if type(x)==str else x)"
   ]
  },
  {
   "cell_type": "code",
   "execution_count": 4,
   "metadata": {},
   "outputs": [],
   "source": [
    "# add scientific name column\n",
    "df['Scientific Name'] = df.name.map(lambda x: x.split(' - ')[1] if type(x)==str else x)"
   ]
  },
  {
   "cell_type": "code",
   "execution_count": 5,
   "metadata": {},
   "outputs": [],
   "source": [
    "# add eBird link\n",
    "df['eBird URL'] = df.apply(lambda x: f'=HYPERLINK(\"https://ebird.org/species/{x[\"id\"]}?siteLanguage=en_IN\", \"{x[\"Standardized Name\"]}\")' if type(x['id'])==str else None, axis=1)"
   ]
  },
  {
   "cell_type": "code",
   "execution_count": 6,
   "metadata": {},
   "outputs": [],
   "source": [
    "# change format of date\n",
    "df['date'] = pd.to_datetime(df['Date'], format='%d-%m-%y')\n",
    "df['Date'] = df['date'].dt.strftime('%d %b %Y')\n"
   ]
  },
  {
   "cell_type": "code",
   "execution_count": 8,
   "metadata": {},
   "outputs": [],
   "source": [
    "ddf = df[[\n",
    "    'Date', 'Time', 'Location', 'Weather', 'Bird Species', 'Standardized Name',\n",
    "    'Notes', 'Count', 'Sex', 'Comments', 'Scientific Name', 'eBird URL'\n",
    "    ]]\n",
    "\n",
    "ddf = ddf.rename(columns = {\n",
    "    'Bird Species': 'Name from Notes',\n",
    "    'Standardized Name': 'Common Name',\n",
    "    'Notes':'Seen/Heard',\n",
    "    'Sex':'Male/Female',\n",
    "    \n",
    "    })"
   ]
  },
  {
   "cell_type": "code",
   "execution_count": 9,
   "metadata": {},
   "outputs": [
    {
     "data": {
      "text/html": [
       "<div>\n",
       "<style scoped>\n",
       "    .dataframe tbody tr th:only-of-type {\n",
       "        vertical-align: middle;\n",
       "    }\n",
       "\n",
       "    .dataframe tbody tr th {\n",
       "        vertical-align: top;\n",
       "    }\n",
       "\n",
       "    .dataframe thead th {\n",
       "        text-align: right;\n",
       "    }\n",
       "</style>\n",
       "<table border=\"1\" class=\"dataframe\">\n",
       "  <thead>\n",
       "    <tr style=\"text-align: right;\">\n",
       "      <th></th>\n",
       "      <th>Date</th>\n",
       "      <th>Time</th>\n",
       "      <th>Location</th>\n",
       "      <th>Weather</th>\n",
       "      <th>Name from Notes</th>\n",
       "      <th>Common Name</th>\n",
       "      <th>Seen/Heard</th>\n",
       "      <th>Count</th>\n",
       "      <th>Male/Female</th>\n",
       "      <th>Comments</th>\n",
       "      <th>Scientific Name</th>\n",
       "      <th>eBird URL</th>\n",
       "    </tr>\n",
       "  </thead>\n",
       "  <tbody>\n",
       "    <tr>\n",
       "      <th>443</th>\n",
       "      <td>NaN</td>\n",
       "      <td>NaN</td>\n",
       "      <td>NaN</td>\n",
       "      <td>NaN</td>\n",
       "      <td>pond heron</td>\n",
       "      <td>Indian Pond-Heron</td>\n",
       "      <td>NaN</td>\n",
       "      <td>NaN</td>\n",
       "      <td>NaN</td>\n",
       "      <td>NaN</td>\n",
       "      <td>Ardeola grayii</td>\n",
       "      <td>=HYPERLINK(\"https://ebird.org/species/inpher1?...</td>\n",
       "    </tr>\n",
       "    <tr>\n",
       "      <th>744</th>\n",
       "      <td>NaN</td>\n",
       "      <td>NaN</td>\n",
       "      <td>NaN</td>\n",
       "      <td>NaN</td>\n",
       "      <td>common myna</td>\n",
       "      <td>Common Myna</td>\n",
       "      <td>NaN</td>\n",
       "      <td>NaN</td>\n",
       "      <td>NaN</td>\n",
       "      <td>NaN</td>\n",
       "      <td>Acridotheres tristis</td>\n",
       "      <td>=HYPERLINK(\"https://ebird.org/species/commyn?s...</td>\n",
       "    </tr>\n",
       "    <tr>\n",
       "      <th>59</th>\n",
       "      <td>NaN</td>\n",
       "      <td>NaN</td>\n",
       "      <td>NaN</td>\n",
       "      <td>NaN</td>\n",
       "      <td>cattle egret</td>\n",
       "      <td>Eastern Cattle Egret</td>\n",
       "      <td>NaN</td>\n",
       "      <td>NaN</td>\n",
       "      <td>NaN</td>\n",
       "      <td>NaN</td>\n",
       "      <td>Bubulcus coromandus</td>\n",
       "      <td>=HYPERLINK(\"https://ebird.org/species/categr2?...</td>\n",
       "    </tr>\n",
       "    <tr>\n",
       "      <th>544</th>\n",
       "      <td>NaN</td>\n",
       "      <td>NaN</td>\n",
       "      <td>NaN</td>\n",
       "      <td>NaN</td>\n",
       "      <td>Ashy wren warbler</td>\n",
       "      <td>Ashy Prinia</td>\n",
       "      <td>NaN</td>\n",
       "      <td>NaN</td>\n",
       "      <td>NaN</td>\n",
       "      <td>NaN</td>\n",
       "      <td>Prinia socialis</td>\n",
       "      <td>=HYPERLINK(\"https://ebird.org/species/ashpri1?...</td>\n",
       "    </tr>\n",
       "    <tr>\n",
       "      <th>772</th>\n",
       "      <td>NaN</td>\n",
       "      <td>NaN</td>\n",
       "      <td>NaN</td>\n",
       "      <td>NaN</td>\n",
       "      <td>coppersmith</td>\n",
       "      <td>Coppersmith Barbet</td>\n",
       "      <td>seen</td>\n",
       "      <td>NaN</td>\n",
       "      <td>NaN</td>\n",
       "      <td>NaN</td>\n",
       "      <td>Psilopogon haemacephalus</td>\n",
       "      <td>=HYPERLINK(\"https://ebird.org/species/copbar1?...</td>\n",
       "    </tr>\n",
       "  </tbody>\n",
       "</table>\n",
       "</div>"
      ],
      "text/plain": [
       "    Date Time Location Weather    Name from Notes           Common Name  \\\n",
       "443  NaN  NaN      NaN     NaN         pond heron     Indian Pond-Heron   \n",
       "744  NaN  NaN      NaN     NaN        common myna           Common Myna   \n",
       "59   NaN  NaN      NaN     NaN       cattle egret  Eastern Cattle Egret   \n",
       "544  NaN  NaN      NaN     NaN  Ashy wren warbler           Ashy Prinia   \n",
       "772  NaN  NaN      NaN     NaN        coppersmith    Coppersmith Barbet   \n",
       "\n",
       "    Seen/Heard Count Male/Female Comments           Scientific Name  \\\n",
       "443        NaN   NaN         NaN      NaN            Ardeola grayii   \n",
       "744        NaN   NaN         NaN      NaN      Acridotheres tristis   \n",
       "59         NaN   NaN         NaN      NaN       Bubulcus coromandus   \n",
       "544        NaN   NaN         NaN      NaN           Prinia socialis   \n",
       "772       seen   NaN         NaN      NaN  Psilopogon haemacephalus   \n",
       "\n",
       "                                             eBird URL  \n",
       "443  =HYPERLINK(\"https://ebird.org/species/inpher1?...  \n",
       "744  =HYPERLINK(\"https://ebird.org/species/commyn?s...  \n",
       "59   =HYPERLINK(\"https://ebird.org/species/categr2?...  \n",
       "544  =HYPERLINK(\"https://ebird.org/species/ashpri1?...  \n",
       "772  =HYPERLINK(\"https://ebird.org/species/copbar1?...  "
      ]
     },
     "execution_count": 9,
     "metadata": {},
     "output_type": "execute_result"
    }
   ],
   "source": [
    "ddf.sample(5)"
   ]
  },
  {
   "cell_type": "code",
   "execution_count": 10,
   "metadata": {},
   "outputs": [],
   "source": [
    "df.to_excel('../data/output/field_notes.xlsx', index=False)"
   ]
  },
  {
   "cell_type": "code",
   "execution_count": 11,
   "metadata": {},
   "outputs": [],
   "source": [
    "# save CSV\n",
    "ddf.to_csv('../data/output/field_notes.csv', index=False)"
   ]
  },
  {
   "cell_type": "code",
   "execution_count": 12,
   "metadata": {},
   "outputs": [],
   "source": [
    "# save a version of the list as a MarkDown table\n",
    "ddf = ddf.rename(columns = {'eBird URL':'eBird'})\n",
    "ddf['eBird URL'] = df.apply(lambda x: f'[{x[\"Standardized Name\"]}](\"https://ebird.org/species/{x[\"id\"]}?siteLanguage=en_IN\")' if type(x['id'])==str else None, axis=1)\n",
    "\n",
    "markdown_table = ddf[[\n",
    "    'Date', 'Time', 'Location', 'Weather', 'Name from Notes', 'Common Name',\n",
    "    'Seen/Heard', 'Count', 'Male/Female', 'Comments', 'Scientific Name',\n",
    "    'eBird URL']].fillna('').to_markdown()"
   ]
  },
  {
   "cell_type": "code",
   "execution_count": 13,
   "metadata": {},
   "outputs": [],
   "source": [
    "# Save the markdown table to a .md file\n",
    "with open('../data/output/field_notes.md', 'w') as f:\n",
    "    f.write(markdown_table)\n"
   ]
  }
 ],
 "metadata": {
  "kernelspec": {
   "display_name": "Python 3.9.18 ('venv': venv)",
   "language": "python",
   "name": "python3"
  },
  "language_info": {
   "codemirror_mode": {
    "name": "ipython",
    "version": 3
   },
   "file_extension": ".py",
   "mimetype": "text/x-python",
   "name": "python",
   "nbconvert_exporter": "python",
   "pygments_lexer": "ipython3",
   "version": "3.9.18"
  },
  "orig_nbformat": 4,
  "vscode": {
   "interpreter": {
    "hash": "853820d714f48262b443d7edc3ae93055ba9d567ffadddded28ee8b7c5e8f2af"
   }
  }
 },
 "nbformat": 4,
 "nbformat_minor": 2
}
