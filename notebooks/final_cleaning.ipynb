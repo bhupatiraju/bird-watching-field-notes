{
 "cells": [
  {
   "cell_type": "code",
   "execution_count": 82,
   "metadata": {},
   "outputs": [],
   "source": [
    "import pandas as pd"
   ]
  },
  {
   "cell_type": "code",
   "execution_count": 83,
   "metadata": {},
   "outputs": [],
   "source": [
    "\n",
    "# made a final copy of the CSV to manually check\n",
    "df = pd.read_csv('../data/processed/field_notes_with_standardized_names_v2.csv')"
   ]
  },
  {
   "cell_type": "code",
   "execution_count": 84,
   "metadata": {},
   "outputs": [],
   "source": [
    "# add standardized name\n",
    "df['Standardized Name'] = df.name.map(lambda x: x.split(' - ')[0] if type(x)==str else x)"
   ]
  },
  {
   "cell_type": "code",
   "execution_count": 85,
   "metadata": {},
   "outputs": [],
   "source": [
    "# add scientific name column\n",
    "df['Scientific Name'] = df.name.map(lambda x: x.split(' - ')[1] if type(x)==str else x)"
   ]
  },
  {
   "cell_type": "code",
   "execution_count": 86,
   "metadata": {},
   "outputs": [],
   "source": [
    "# add eBird link\n",
    "df['eBird URL'] = df.apply(lambda x: f'=HYPERLINK(\"https://ebird.org/species/{x[\"id\"]}?siteLanguage=en_IN\", \"{x[\"Standardized Name\"]}\")' if type(x['id'])==str else None, axis=1)"
   ]
  },
  {
   "cell_type": "code",
   "execution_count": 87,
   "metadata": {},
   "outputs": [],
   "source": [
    "# change format of date\n",
    "df['date'] = pd.to_datetime(df['Date'], format='%d-%m-%y')\n",
    "df['Date'] = df['date'].dt.strftime('%d %b %Y')\n"
   ]
  },
  {
   "cell_type": "code",
   "execution_count": 88,
   "metadata": {},
   "outputs": [],
   "source": [
    "ddf = df[[\n",
    "    'Date', 'Time', 'Location', 'Weather', 'Bird Species', 'Standardized Name',\n",
    "    'Notes', 'Count', 'Sex', 'Comments', 'Scientific Name', 'eBird URL'\n",
    "    ]]\n",
    "\n",
    "ddf = ddf.rename(columns = {\n",
    "    'Bird Species': 'Name from Notes',\n",
    "    'Standardized Name': 'Common Name',\n",
    "    'Notes':'Seen/Heard',\n",
    "    'Sex':'Male/Female',\n",
    "    \n",
    "    })"
   ]
  },
  {
   "cell_type": "code",
   "execution_count": 89,
   "metadata": {},
   "outputs": [
    {
     "data": {
      "text/html": [
       "<div>\n",
       "<style scoped>\n",
       "    .dataframe tbody tr th:only-of-type {\n",
       "        vertical-align: middle;\n",
       "    }\n",
       "\n",
       "    .dataframe tbody tr th {\n",
       "        vertical-align: top;\n",
       "    }\n",
       "\n",
       "    .dataframe thead th {\n",
       "        text-align: right;\n",
       "    }\n",
       "</style>\n",
       "<table border=\"1\" class=\"dataframe\">\n",
       "  <thead>\n",
       "    <tr style=\"text-align: right;\">\n",
       "      <th></th>\n",
       "      <th>Date</th>\n",
       "      <th>Time</th>\n",
       "      <th>Location</th>\n",
       "      <th>Weather</th>\n",
       "      <th>Name from Notes</th>\n",
       "      <th>Common Name</th>\n",
       "      <th>Seen/Heard</th>\n",
       "      <th>Count</th>\n",
       "      <th>Male/Female</th>\n",
       "      <th>Comments</th>\n",
       "      <th>Scientific Name</th>\n",
       "      <th>eBird URL</th>\n",
       "    </tr>\n",
       "  </thead>\n",
       "  <tbody>\n",
       "    <tr>\n",
       "      <th>923</th>\n",
       "      <td>NaN</td>\n",
       "      <td>NaN</td>\n",
       "      <td>NaN</td>\n",
       "      <td>NaN</td>\n",
       "      <td>red wattled lapwing</td>\n",
       "      <td>Red-wattled Lapwing</td>\n",
       "      <td>NaN</td>\n",
       "      <td>NaN</td>\n",
       "      <td>NaN</td>\n",
       "      <td>NaN</td>\n",
       "      <td>Vanellus indicus</td>\n",
       "      <td>=HYPERLINK(\"https://ebird.org/species/rewlap1?...</td>\n",
       "    </tr>\n",
       "    <tr>\n",
       "      <th>648</th>\n",
       "      <td>NaN</td>\n",
       "      <td>NaN</td>\n",
       "      <td>NaN</td>\n",
       "      <td>NaN</td>\n",
       "      <td>black backed woodpecker</td>\n",
       "      <td>Black-backed Woodpecker</td>\n",
       "      <td>NaN</td>\n",
       "      <td>NaN</td>\n",
       "      <td>NaN</td>\n",
       "      <td>NaN</td>\n",
       "      <td>Picoides arcticus</td>\n",
       "      <td>=HYPERLINK(\"https://ebird.org/species/bkbwoo?s...</td>\n",
       "    </tr>\n",
       "    <tr>\n",
       "      <th>510</th>\n",
       "      <td>NaN</td>\n",
       "      <td>NaN</td>\n",
       "      <td>NaN</td>\n",
       "      <td>NaN</td>\n",
       "      <td>black drongo</td>\n",
       "      <td>Black Drongo</td>\n",
       "      <td>NaN</td>\n",
       "      <td>NaN</td>\n",
       "      <td>NaN</td>\n",
       "      <td>NaN</td>\n",
       "      <td>Dicrurus macrocercus</td>\n",
       "      <td>=HYPERLINK(\"https://ebird.org/species/bladro1?...</td>\n",
       "    </tr>\n",
       "    <tr>\n",
       "      <th>53</th>\n",
       "      <td>NaN</td>\n",
       "      <td>NaN</td>\n",
       "      <td>NaN</td>\n",
       "      <td>NaN</td>\n",
       "      <td>White breasted water hen</td>\n",
       "      <td>White-breasted Waterhen</td>\n",
       "      <td>NaN</td>\n",
       "      <td>NaN</td>\n",
       "      <td>NaN</td>\n",
       "      <td>NaN</td>\n",
       "      <td>Amaurornis phoenicurus</td>\n",
       "      <td>=HYPERLINK(\"https://ebird.org/species/whbwat1?...</td>\n",
       "    </tr>\n",
       "    <tr>\n",
       "      <th>455</th>\n",
       "      <td>NaN</td>\n",
       "      <td>NaN</td>\n",
       "      <td>NaN</td>\n",
       "      <td>NaN</td>\n",
       "      <td>little green beeeater</td>\n",
       "      <td>Asian Green Bee-eater</td>\n",
       "      <td>NaN</td>\n",
       "      <td>NaN</td>\n",
       "      <td>NaN</td>\n",
       "      <td>NaN</td>\n",
       "      <td>Merops orientalis</td>\n",
       "      <td>=HYPERLINK(\"https://ebird.org/species/grnbee3?...</td>\n",
       "    </tr>\n",
       "  </tbody>\n",
       "</table>\n",
       "</div>"
      ],
      "text/plain": [
       "    Date Time Location Weather           Name from Notes  \\\n",
       "923  NaN  NaN      NaN     NaN       red wattled lapwing   \n",
       "648  NaN  NaN      NaN     NaN   black backed woodpecker   \n",
       "510  NaN  NaN      NaN     NaN              black drongo   \n",
       "53   NaN  NaN      NaN     NaN  White breasted water hen   \n",
       "455  NaN  NaN      NaN     NaN     little green beeeater   \n",
       "\n",
       "                 Common Name Seen/Heard Count Male/Female Comments  \\\n",
       "923      Red-wattled Lapwing        NaN   NaN         NaN      NaN   \n",
       "648  Black-backed Woodpecker        NaN   NaN         NaN      NaN   \n",
       "510             Black Drongo        NaN   NaN         NaN      NaN   \n",
       "53   White-breasted Waterhen        NaN   NaN         NaN      NaN   \n",
       "455    Asian Green Bee-eater        NaN   NaN         NaN      NaN   \n",
       "\n",
       "            Scientific Name                                          eBird URL  \n",
       "923        Vanellus indicus  =HYPERLINK(\"https://ebird.org/species/rewlap1?...  \n",
       "648       Picoides arcticus  =HYPERLINK(\"https://ebird.org/species/bkbwoo?s...  \n",
       "510    Dicrurus macrocercus  =HYPERLINK(\"https://ebird.org/species/bladro1?...  \n",
       "53   Amaurornis phoenicurus  =HYPERLINK(\"https://ebird.org/species/whbwat1?...  \n",
       "455       Merops orientalis  =HYPERLINK(\"https://ebird.org/species/grnbee3?...  "
      ]
     },
     "execution_count": 89,
     "metadata": {},
     "output_type": "execute_result"
    }
   ],
   "source": [
    "ddf.sample(5)"
   ]
  },
  {
   "cell_type": "code",
   "execution_count": 90,
   "metadata": {},
   "outputs": [],
   "source": [
    "df.to_excel('../data/output/field_notes.xlsx', index=False)"
   ]
  },
  {
   "cell_type": "code",
   "execution_count": 91,
   "metadata": {},
   "outputs": [],
   "source": [
    "# save CSV\n",
    "ddf.to_csv('../data/output/field_notes.csv', index=False)"
   ]
  },
  {
   "cell_type": "code",
   "execution_count": 78,
   "metadata": {},
   "outputs": [],
   "source": [
    "# save a version of the list as a MarkDown table\n",
    "ddf = ddf.rename(columns = {'eBird URL':'eBird'})\n",
    "ddf['eBird URL'] = df.apply(lambda x: f'[{x[\"Standardized Name\"]}](\"https://ebird.org/species/\"{x[\"id\"]}\"?siteLanguage=en_IN\")' if type(x['id'])==str else None, axis=1)\n",
    "\n",
    "markdown_table = ddf[[\n",
    "    'Date', 'Time', 'Location', 'Weather', 'Name from Notes', 'Common Name',\n",
    "    'Seen/Heard', 'Count', 'Male/Female', 'Comments', 'Scientific Name',\n",
    "    'eBird URL']].fillna('').to_markdown()"
   ]
  },
  {
   "cell_type": "code",
   "execution_count": 79,
   "metadata": {},
   "outputs": [],
   "source": [
    "# Save the markdown table to a .md file\n",
    "with open('../data/output/field_notes.md', 'w') as f:\n",
    "    f.write(markdown_table)\n"
   ]
  }
 ],
 "metadata": {
  "kernelspec": {
   "display_name": "Python 3.9.18 ('venv': venv)",
   "language": "python",
   "name": "python3"
  },
  "language_info": {
   "codemirror_mode": {
    "name": "ipython",
    "version": 3
   },
   "file_extension": ".py",
   "mimetype": "text/x-python",
   "name": "python",
   "nbconvert_exporter": "python",
   "pygments_lexer": "ipython3",
   "version": "3.9.18"
  },
  "orig_nbformat": 4,
  "vscode": {
   "interpreter": {
    "hash": "853820d714f48262b443d7edc3ae93055ba9d567ffadddded28ee8b7c5e8f2af"
   }
  }
 },
 "nbformat": 4,
 "nbformat_minor": 2
}
